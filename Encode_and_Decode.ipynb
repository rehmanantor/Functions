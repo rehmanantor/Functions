{
  "nbformat": 4,
  "nbformat_minor": 0,
  "metadata": {
    "colab": {
      "provenance": [],
      "authorship_tag": "ABX9TyMf14sZswQ3SRhd0d9S8Ab7",
      "include_colab_link": true
    },
    "kernelspec": {
      "name": "python3",
      "display_name": "Python 3"
    },
    "language_info": {
      "name": "python"
    }
  },
  "cells": [
    {
      "cell_type": "markdown",
      "metadata": {
        "id": "view-in-github",
        "colab_type": "text"
      },
      "source": [
        "<a href=\"https://colab.research.google.com/github/rehmanantor/Functions/blob/main/Encode_and_Decode.ipynb\" target=\"_parent\"><img src=\"https://colab.research.google.com/assets/colab-badge.svg\" alt=\"Open In Colab\"/></a>"
      ]
    },
    {
      "cell_type": "markdown",
      "source": [
        "**Encoding**"
      ],
      "metadata": {
        "id": "KTpNzlCoUplC"
      }
    },
    {
      "cell_type": "code",
      "execution_count": null,
      "metadata": {
        "id": "dFaezSwOUf59"
      },
      "outputs": [],
      "source": [
        "\n",
        "def encode(string):\n",
        "    if len(string)>=3:\n",
        "        import numpy as np\n",
        "        alpha=['a','b','c','d','e','f','g','h','i','j','k','l','m','n','o','p','q','r','s',\"t\",\"u\",\"v\",\"w\",\"x\",\"y\",\"z\"]\n",
        "        right=np.random.permutation(alpha)[:3]\n",
        "        rchar=\"\"\n",
        "        lchar=\"\"\n",
        "        for i in right:\n",
        "            rchar+=i\n",
        "\n",
        "        left=np.random.permutation(alpha)[:3]\n",
        "        for n in left:\n",
        "            lchar+=n\n",
        "        code=lchar+string[1:]+string[0]+rchar\n",
        "        return code\n",
        "\n",
        "\n",
        "    else:\n",
        "        return string[::-1]\n",
        "\n",
        "\n",
        "\n",
        "\n",
        "\n",
        "\n",
        "\n"
      ]
    },
    {
      "cell_type": "markdown",
      "source": [
        "**Decoding**"
      ],
      "metadata": {
        "id": "CME7MBZiUwch"
      }
    },
    {
      "cell_type": "code",
      "source": [
        "def decode(string):\n",
        "\n",
        "    if len(string)>=9:\n",
        "        cypher=string[3:len(string)-3]\n",
        "        cypher=cypher[len(cypher)-1]+cypher[:len(cypher)-1]\n",
        "        return(cypher)\n",
        "    else:\n",
        "        return string[::-1]\n"
      ],
      "metadata": {
        "id": "m3gvM2KJUma6"
      },
      "execution_count": null,
      "outputs": []
    },
    {
      "cell_type": "markdown",
      "source": [
        "**Execution**"
      ],
      "metadata": {
        "id": "Q0yScd7VUyhB"
      }
    },
    {
      "cell_type": "code",
      "source": [
        "print(encode(\"og\"))\n",
        "print(decode(\"fuybdulrehmanaxwo\"))"
      ],
      "metadata": {
        "id": "rHFZHLgIUodQ"
      },
      "execution_count": null,
      "outputs": []
    }
  ]
}