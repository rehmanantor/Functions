{
  "cells": [
    {
      "cell_type": "markdown",
      "metadata": {
        "id": "view-in-github",
        "colab_type": "text"
      },
      "source": [
        "<a href=\"https://colab.research.google.com/github/rehmanantor/Functions/blob/main/functions.ipynb\" target=\"_parent\"><img src=\"https://colab.research.google.com/assets/colab-badge.svg\" alt=\"Open In Colab\"/></a>"
      ]
    },
    {
      "cell_type": "markdown",
      "metadata": {
        "id": "QFyc2bYj1Mk4"
      },
      "source": [
        "String reverser"
      ]
    },
    {
      "cell_type": "code",
      "execution_count": null,
      "metadata": {
        "colab": {
          "base_uri": "https://localhost:8080/"
        },
        "id": "u6Zs-uTItnbZ",
        "outputId": "0f4346d4-15c9-4e90-9da2-1b3eb2a75c9a"
      },
      "outputs": [
        {
          "name": "stdout",
          "output_type": "stream",
          "text": [
            "olleh\n"
          ]
        }
      ],
      "source": [
        "def reverse(a):\n",
        "  '''This function accepts the str and returns the reverse of it'''\n",
        "  return a[::-1]\n",
        "print(reverse('hello'))\n"
      ]
    },
    {
      "cell_type": "markdown",
      "source": [
        "Factorial Calculator"
      ],
      "metadata": {
        "id": "MjFHOGqqZXh1"
      }
    },
    {
      "cell_type": "code",
      "execution_count": null,
      "metadata": {
        "colab": {
          "base_uri": "https://localhost:8080/"
        },
        "id": "xkdqXSLC7OMy",
        "outputId": "153e1839-f6cc-45dc-d6eb-f590b10d0948"
      },
      "outputs": [
        {
          "name": "stdout",
          "output_type": "stream",
          "text": [
            "24\n"
          ]
        }
      ],
      "source": [
        "def factorial(n):\n",
        "  if n==1 or n==0:\n",
        "    return 1\n",
        "  else:\n",
        "    return n * factorial(n-1)\n",
        "print(factorial(4))"
      ]
    },
    {
      "cell_type": "markdown",
      "metadata": {
        "id": "NSwjhR-j7Nub"
      },
      "source": [
        "Permutations"
      ]
    },
    {
      "cell_type": "code",
      "execution_count": null,
      "metadata": {
        "colab": {
          "background_save": true,
          "base_uri": "https://localhost:8080/"
        },
        "id": "xL5eJlcE2L0R",
        "outputId": "d3743f52-4721-4737-cb08-a3374ffda553"
      },
      "outputs": [
        {
          "output_type": "stream",
          "name": "stdout",
          "text": [
            "[0, 1, 2]\n"
          ]
        }
      ],
      "source": [
        "def factorial(n):\n",
        "  if n==1 or n==0:\n",
        "    return 1\n",
        "  else:\n",
        "    return n * factorial(n-1)\n",
        "\n",
        "\n",
        "\n",
        "\n",
        "\n",
        "\n",
        "def premutaions(word):\n",
        "  char=[]\n",
        "  semi=set()\n",
        "  denomo=[]\n",
        "  deno=1\n",
        "  nume=factorial(len(word))\n",
        "  count=-1\n",
        "  index=[]\n",
        "  permutes=set()\n",
        "  charc=\"\"\n",
        "  import random\n",
        "\n",
        "  for i in word:\n",
        "    char.append(i)\n",
        "    semi.add(i)\n",
        "    count+=1\n",
        "    index.append(count)\n",
        "  print(index)\n",
        "\n",
        "\n",
        "  for d in semi:\n",
        "    denomo.append(char.count(d))\n",
        "  for f in denomo:\n",
        "    deno=factorial(f)*deno\n",
        "\n",
        "  for x in range((nume//deno)):\n",
        "    charc=\"\"\n",
        "    random.shuffle(index)\n",
        "    for j in index:\n",
        "      charc=word[j]+charc\n",
        "    while charc in permutes:\n",
        "      charc=\"\"\n",
        "      for j in index:\n",
        "        charc=word[j]+charc\n",
        "    permutes.add(charc)\n",
        "  return permutes\n",
        "print(premutaions('eve'))\n",
        "\n",
        "\n",
        "\n",
        "\n",
        "\n",
        "\n",
        "\n",
        "\n",
        "\n"
      ]
    },
    {
      "cell_type": "markdown",
      "source": [
        "More **efficient** permutaitions code\n"
      ],
      "metadata": {
        "id": "qtcxVPBaZd70"
      }
    },
    {
      "cell_type": "code",
      "execution_count": null,
      "metadata": {
        "id": "ZQbGxRfsJ3OR"
      },
      "outputs": [],
      "source": [
        "def premutaions(word):\n",
        "  char=[]\n",
        "  semi=set()\n",
        "  denomo=[]\n",
        "  deno=1\n",
        "  nume=factorial(len(word))\n",
        "  count=-1\n",
        "  index=[]\n",
        "  permutes=set()\n",
        "  charc=\"\"\n",
        "  import random\n",
        "  import numpy as np\n",
        "  for i in word:\n",
        "    char.append(i)\n",
        "    semi.add(i)\n",
        "    count+=1\n",
        "    index.append(count)\n",
        "  print(index)\n",
        "\n",
        "\n",
        "  for d in semi:\n",
        "    denomo.append(char.count(d))\n",
        "  for f in denomo:\n",
        "    deno=factorial(f)*deno\n",
        "\n",
        "  for x in range((nume//deno)):\n",
        "    charc=\"\"\n",
        "    for j in np.random.permutation(index):\n",
        "      charc+=word[j]\n",
        "    while charc in permutes:\n",
        "      charc=\"\"\n",
        "      for j in np.random.permutation(index):\n",
        "        charc+=word[j]\n",
        "    permutes.add(charc)\n",
        "  return permutes\n",
        "print(premutaions(\"dad\"))\n"
      ]
    }
  ],
  "metadata": {
    "colab": {
      "provenance": [],
      "authorship_tag": "ABX9TyM7JQWBWaGaGM1V8kgyZHHu",
      "include_colab_link": true
    },
    "kernelspec": {
      "display_name": "Python 3",
      "name": "python3"
    },
    "language_info": {
      "name": "python"
    }
  },
  "nbformat": 4,
  "nbformat_minor": 0
}